{
 "cells": [
  {
   "cell_type": "markdown",
   "metadata": {},
   "source": [
    "Q1. Write a Python program to get the string from the given string where\n",
    "all the occurrence of its first char has been changed to '$,' except first\n",
    "char itself?\n",
    "\n",
    "    Sample String: 'prospect'\n",
    "    Expected Result : 'pros$ect'\n"
   ]
  },
  {
   "cell_type": "code",
   "execution_count": 12,
   "metadata": {},
   "outputs": [
    {
     "data": {
      "text/plain": [
       "'pros$ect'"
      ]
     },
     "execution_count": 12,
     "metadata": {},
     "output_type": "execute_result"
    }
   ],
   "source": [
    "input_str = 'prospect'\n",
    "\n",
    "lst = list(input_str) \n",
    "lst\n",
    "\n",
    "for i in range(1,len(lst)):\n",
    "    if lst[i] == lst[0]:\n",
    "        lst[i] = '$'\n",
    "lst\n",
    "\n",
    "output_str = \"\"\n",
    "output_str.join(lst)"
   ]
  },
  {
   "cell_type": "markdown",
   "metadata": {},
   "source": [
    "Q2. Write a Python program to get the single string from the two given\n",
    "strings, and separated by the space and swap the first two characters of\n",
    "each string?\n",
    "\n",
    "    Sample String : 'abc', 'xyz'.\n",
    "    Expected Result: 'xyc abz'"
   ]
  },
  {
   "cell_type": "code",
   "execution_count": 3,
   "metadata": {},
   "outputs": [
    {
     "data": {
      "text/plain": [
       "'xyc abz'"
      ]
     },
     "execution_count": 3,
     "metadata": {},
     "output_type": "execute_result"
    }
   ],
   "source": [
    "input_str1 = 'abc'\n",
    "input_str2 = 'xyz'\n",
    "\n",
    "\n",
    "lst1 = list(input_str1)\n",
    "lst2 = list(input_str2)\n",
    "\n",
    "m = ''\n",
    "\n",
    "for i in range(2):\n",
    "    m = lst1[i] \n",
    "    lst1[i] = lst2[i]\n",
    "    lst2[i] = m\n",
    "    \n",
    "n = ''\n",
    "p = ''\n",
    "\n",
    "output_str = n.join(lst1) + \" \" + p.join(lst2)\n",
    "output_str"
   ]
  },
  {
   "cell_type": "markdown",
   "metadata": {},
   "source": [
    "Q3. Write the Python program to add 'ing' at the end of the given string\n",
    "(length of the string should be at least 3). If given string already ends\n",
    "with 'ing,' then add 'ly' instead. If string length of the given string is less\n",
    "than 3, leave it unchanged?\n",
    "\n",
    "\n",
    "    Sample string: ' abc '\n",
    "    Expected result: ' abcing '\n",
    "    Sample string: ' string '\n",
    "    Expected result: ' stringly '\n"
   ]
  },
  {
   "cell_type": "code",
   "execution_count": 44,
   "metadata": {},
   "outputs": [
    {
     "data": {
      "text/plain": [
       "'ghkhing'"
      ]
     },
     "execution_count": 44,
     "metadata": {},
     "output_type": "execute_result"
    }
   ],
   "source": [
    "def append_str(n):\n",
    "    \n",
    "    lst4 = list(n)\n",
    "    output_str = ''\n",
    "   \n",
    "    if len(lst4) > 2 :\n",
    "        if (lst4[-3] == 'i' and lst4[-2]== 'n' and lst4[-1] == 'g'):\n",
    "            lst4.append('ly')\n",
    "        else:\n",
    "            lst4.append('ing')\n",
    "            \n",
    "    return output_str.join(lst4) \n",
    "    \n",
    "append_str('ghkh')"
   ]
  },
  {
   "cell_type": "markdown",
   "metadata": {},
   "source": [
    "Q4. Write the Python program to find the first appearance of the\n",
    "substring 'not' and 'poor' from the given string, if 'not' follows the 'poor',\n",
    "replace the whole 'not'...' poor' substring with 'good'.Return the resulting\n",
    "string.\n",
    "\n",
    "    Sample string: 'The lyrics are not that poor!'\n",
    "    'The lyrics are poor!'\n",
    "    Expected Result: 'The lyrics are good!'\n",
    "    'The lyrics are poor!'"
   ]
  },
  {
   "cell_type": "code",
   "execution_count": 2,
   "metadata": {},
   "outputs": [
    {
     "name": "stdout",
     "output_type": "stream",
     "text": [
      "16\n",
      "25\n",
      "'The lyrics are good!' 'The lyrics are poor!'\n"
     ]
    }
   ],
   "source": [
    "given_str = \"'The lyrics are not that poor!' 'The lyrics are poor!'\"\n",
    "\n",
    "index_str1 = given_str.find('not')\n",
    "index_str2 = given_str.find('poor')\n",
    "\n",
    "print(index_str1)\n",
    "print(index_str2)\n",
    "\n",
    "new_str = ''\n",
    "\n",
    "if index_str1 < index_str2:\n",
    "    new_str = given_str[:index_str1] + 'good' + given_str[index_str2+4:]\n",
    "    print(new_str)    \n",
    "else:\n",
    "    print(given_str)"
   ]
  },
  {
   "cell_type": "markdown",
   "metadata": {},
   "source": [
    "Q5. Write the Python program to remove the characters which have odd\n",
    "index values of a given string."
   ]
  },
  {
   "cell_type": "code",
   "execution_count": 19,
   "metadata": {},
   "outputs": [
    {
     "data": {
      "text/plain": [
       "'bjknve'"
      ]
     },
     "execution_count": 19,
     "metadata": {},
     "output_type": "execute_result"
    }
   ],
   "source": [
    "s = 'bvjekvnevne'\n",
    "\n",
    "s1 = \"\"\n",
    "\n",
    "for i in range(len(s)):\n",
    "    \n",
    "    if i%2 == 0:\n",
    "        s1 = s1 + s[i]\n",
    "        \n",
    "s1"
   ]
  },
  {
   "cell_type": "markdown",
   "metadata": {},
   "source": [
    "Q6. Write the python program to print the following floating numbers up\n",
    "to 2 decimal places?"
   ]
  },
  {
   "cell_type": "code",
   "execution_count": 25,
   "metadata": {},
   "outputs": [
    {
     "name": "stdout",
     "output_type": "stream",
     "text": [
      "enter the number:46.2134\n",
      "formated number is: 46.21\n"
     ]
    }
   ],
   "source": [
    "num = float(input(\"enter the number:\"))\n",
    "\n",
    "print(\"formated number is: {:.2f}\".format(num))"
   ]
  },
  {
   "cell_type": "markdown",
   "metadata": {},
   "source": [
    "Q7. Write the Python program to format a number with a percentage?"
   ]
  },
  {
   "cell_type": "code",
   "execution_count": 32,
   "metadata": {},
   "outputs": [
    {
     "name": "stdout",
     "output_type": "stream",
     "text": [
      "%age value of n is: 1.2%age\n"
     ]
    }
   ],
   "source": [
    "def percent_fun(n):\n",
    "    \n",
    "    print(\"%age value of n is: \" + str(100*n) + '%age')\n",
    "    \n",
    "percent_fun(.012)"
   ]
  },
  {
   "cell_type": "markdown",
   "metadata": {},
   "source": [
    "Q8. Write the Python program to count occurrences of a substring in a\n",
    "String?"
   ]
  },
  {
   "cell_type": "code",
   "execution_count": 36,
   "metadata": {},
   "outputs": [
    {
     "data": {
      "text/plain": [
       "2"
      ]
     },
     "execution_count": 36,
     "metadata": {},
     "output_type": "execute_result"
    }
   ],
   "source": [
    "s = \"hdjh'sub'jdjdcj'sub'fghjk\"\n",
    "\n",
    "s.count('sub')\n",
    "\n"
   ]
  },
  {
   "cell_type": "markdown",
   "metadata": {},
   "source": [
    "Q9. Write the Python program to count repeated characters in a string.\n",
    "\n",
    "    Sample string: ' thequickbrownjumpsoverthelazydog '\n",
    "    \n",
    "    Expected output:\n",
    "    o 3\n",
    "    e 3\n",
    "    u 2\n",
    "    h 2\n",
    "    r 2\n",
    "    t 2"
   ]
  },
  {
   "cell_type": "code",
   "execution_count": 1,
   "metadata": {},
   "outputs": [
    {
     "name": "stdout",
     "output_type": "stream",
     "text": [
      "t 2\n",
      "h 2\n",
      "e 3\n",
      "u 2\n",
      "r 2\n",
      "o 3\n"
     ]
    }
   ],
   "source": [
    "def count_val(s):\n",
    "    \n",
    "    diction = {}\n",
    "    \n",
    "    for i in s:\n",
    "        if i in diction:\n",
    "            diction[i] += 1\n",
    "        else:\n",
    "            diction[i] = 1\n",
    "        \n",
    "        \n",
    "    for k in diction:\n",
    "        if diction[k] > 1:\n",
    "            print(k, diction[k])\n",
    "\n",
    "count_val('thequickbrownjumpsoverthelazydog')"
   ]
  },
  {
   "cell_type": "markdown",
   "metadata": {},
   "source": [
    "Q10. Write the Python program to print the square and cube symbol in\n",
    "the area of a rectangle and volume of a cylinder?\n",
    "\n",
    "    Sample outputThe area of the rectangle is 1256.66cm2\n",
    "    The volume of the cylinder is 1254.725cm3\n"
   ]
  },
  {
   "cell_type": "code",
   "execution_count": 4,
   "metadata": {},
   "outputs": [
    {
     "name": "stdout",
     "output_type": "stream",
     "text": [
      "The area of the rectangle is 1256.66cm²\n",
      "The volume of the cylinder is 1254.725cm³\n"
     ]
    }
   ],
   "source": [
    "rect_area = 1256.66\n",
    "decimals = 2\n",
    "print(\"The area of the rectangle is {0:.{1}f}cm\\u00b2\".format(rect_area,decimals))\n",
    "\n",
    "cyl_vol = 1254.725\n",
    "decimals = 3\n",
    "print(\"The volume of the cylinder is {0:.{1}f}cm\\u00b3\".format(cyl_vol,decimals))"
   ]
  },
  {
   "cell_type": "markdown",
   "metadata": {},
   "source": [
    "Q11. Write the Python program to check if a string contains all letters of\n",
    "the alphabet?"
   ]
  },
  {
   "cell_type": "code",
   "execution_count": 22,
   "metadata": {},
   "outputs": [
    {
     "name": "stdout",
     "output_type": "stream",
     "text": [
      "input string doesn't contain all alphabets\n"
     ]
    }
   ],
   "source": [
    "check_str ='abcdefghijklmnopqrstuvwxyz'\n",
    "\n",
    "def input_str(n):\n",
    "    \n",
    "    for i in check_str:\n",
    "        if i not in n.lower():\n",
    "            return False\n",
    "        \n",
    "    return True\n",
    "\n",
    "n= 'pqrstuGHJKvyinozabcdejklmpqf'  \n",
    "\n",
    "if(input_str(n) == True):\n",
    "    print(\"string contains all the alphabets\")\n",
    "else:    \n",
    "    print(\"input string doesn't contain all alphabets\")"
   ]
  },
  {
   "cell_type": "markdown",
   "metadata": {},
   "source": [
    "Q12. Write the Python program to find the second most repeated word\n",
    "in a given string?"
   ]
  },
  {
   "cell_type": "code",
   "execution_count": 6,
   "metadata": {},
   "outputs": [
    {
     "name": "stdout",
     "output_type": "stream",
     "text": [
      "the second most repeated word is: in\n"
     ]
    }
   ],
   "source": [
    "input_str = 'this is the second assignment in python basic. in every week, assignment is being added assignment in the list. student who completes the assignment on time, will be given the marks.'\n",
    "\n",
    "d = dict()\n",
    "\n",
    "lst_str = input_str.split()\n",
    "\n",
    "for i in lst_str:\n",
    "    if i in d:\n",
    "        d[i] += 1\n",
    "    else:\n",
    "        d[i] = 1\n",
    "\n",
    "\n",
    "\n",
    "s = sorted(d.values(), reverse=True)\n",
    "\n",
    "\n",
    "max_val = s[0]\n",
    "\n",
    "\n",
    "for i in range(len(s)):\n",
    "    if s[i] < s[0]:\n",
    "        sec_most = s[i]\n",
    "        break\n",
    "        \n",
    "for k,v in d.items():\n",
    "    if v == sec_most:\n",
    "        print(\"the second most repeated word is:\", k)\n",
    "        "
   ]
  },
  {
   "cell_type": "markdown",
   "metadata": {},
   "source": [
    "Q13. Write the Python program to find the minimum window in the given\n",
    "string, which will contains all the characters of another given\n",
    "strings?\n",
    "\n",
    "    Example 1\n",
    "    Input : string1 = \" PRWSOERIUSFK \"\n",
    "    string2 = \" OSU \"\n",
    "    Output: Minimum window is \"OERIUS\""
   ]
  },
  {
   "cell_type": "code",
   "execution_count": 57,
   "metadata": {},
   "outputs": [
    {
     "data": {
      "text/plain": [
       "'SOERIU'"
      ]
     },
     "execution_count": 57,
     "metadata": {},
     "output_type": "execute_result"
    }
   ],
   "source": [
    "input_str = \" PRWSOERIUSFK \"\n",
    "\n",
    "check_str = \"OSU\"\n",
    "\n",
    "new_str = \"\"\n",
    "lst = []\n",
    "\n",
    "for i in range(len(input_str)):\n",
    "    for j in range(len(check_str)):\n",
    "        \n",
    "        if input_str[i] == check_str[j]:\n",
    "            lst.append(input_str.index(input_str[i]))\n",
    "\n",
    "for i in range(min(lst),max(lst)+1):\n",
    "    \n",
    "    new_str = new_str + input_str[i]\n",
    "    \n",
    "new_str\n"
   ]
  },
  {
   "cell_type": "markdown",
   "metadata": {},
   "source": [
    "Q14. Write the Python program to count number of substrings from a\n",
    "given string of lowercase alphabets with exactly k distinct (given)\n",
    "characters?\n",
    "\n",
    "    Input a string (lowercase alphabets): wolf\n",
    "    Input k: 4\n",
    "    Number of substrings with exactly 4 distinct characters: 1"
   ]
  },
  {
   "cell_type": "code",
   "execution_count": 5,
   "metadata": {},
   "outputs": [
    {
     "name": "stdout",
     "output_type": "stream",
     "text": [
      "Number of substrings with exactly 4 distinct characters:2\n"
     ]
    }
   ],
   "source": [
    "input_str = 'wolfwolfwo'\n",
    "input_val = 4\n",
    "\n",
    "count = 0\n",
    "string_val = 0\n",
    "lst = []\n",
    "\n",
    "for i in range(len(input_str)):\n",
    "    \n",
    "    if input_str[i] not in lst:\n",
    "        lst.append(input_str[i])\n",
    "        count += 1\n",
    "        \n",
    "        if count == 4:\n",
    "            string_val += 1\n",
    "            count = 0\n",
    "            lst = []\n",
    "    \n",
    "\n",
    "print(\"Number of substrings with exactly \" + str(input_val) + \" distinct characters:\" + str(int(string_val)))\n",
    "       \n",
    "    \n"
   ]
  },
  {
   "cell_type": "markdown",
   "metadata": {},
   "source": [
    "Q15. Write the Python program to count number of substrings with same\n",
    "first and last characters of the given string?\n",
    "\n",
    "    Input a string: abcd\n",
    "    4\n"
   ]
  },
  {
   "cell_type": "code",
   "execution_count": 14,
   "metadata": {},
   "outputs": [
    {
     "name": "stdout",
     "output_type": "stream",
     "text": [
      "enter the string:abcd\n",
      "4\n"
     ]
    }
   ],
   "source": [
    "input_str = input(\"enter the string:\")\n",
    "\n",
    "count = 0\n",
    "n = len(input_str)\n",
    "\n",
    "for i in range(n):\n",
    "    for j in range(i,n):\n",
    "        if input_str[i] == input_str[j]:\n",
    "            count += 1\n",
    "    \n",
    "print(count)        "
   ]
  },
  {
   "cell_type": "markdown",
   "metadata": {},
   "source": [
    "## Great Job!"
   ]
  }
 ],
 "metadata": {
  "kernelspec": {
   "display_name": "Python 3",
   "language": "python",
   "name": "python3"
  },
  "language_info": {
   "codemirror_mode": {
    "name": "ipython",
    "version": 3
   },
   "file_extension": ".py",
   "mimetype": "text/x-python",
   "name": "python",
   "nbconvert_exporter": "python",
   "pygments_lexer": "ipython3",
   "version": "3.7.1"
  }
 },
 "nbformat": 4,
 "nbformat_minor": 2
}
