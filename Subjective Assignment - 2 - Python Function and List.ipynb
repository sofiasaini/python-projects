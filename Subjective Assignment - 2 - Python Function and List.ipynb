{
 "cells": [
  {
   "cell_type": "markdown",
   "metadata": {},
   "source": [
    "# Assignments"
   ]
  },
  {
   "cell_type": "markdown",
   "metadata": {},
   "source": [
    "Q1. Write the Python function to get a string made of 4 copies of the last\n",
    "two characters of the specified string (length must be at least 2).\n",
    "\n",
    "    Sample function and result :\n",
    "    insert-end ('Python') -> abababab\n",
    "    insert-end('Exercises') -> jkjkjkjk"
   ]
  },
  {
   "cell_type": "code",
   "execution_count": 5,
   "metadata": {},
   "outputs": [
    {
     "name": "stdout",
     "output_type": "stream",
     "text": [
      "enter the string:function\n",
      "onononon\n"
     ]
    }
   ],
   "source": [
    "input_str = input(\"enter the string:\")\n",
    "\n",
    "if (len(input_str)) > 1:\n",
    "    \n",
    "    lst1 = []\n",
    "    str1 = ''\n",
    "    \n",
    "    for i in range(4):\n",
    "        lst1.append(input_str[-2])\n",
    "        lst1.append(input_str[-1])\n",
    "        \n",
    "else:\n",
    "    print(input_str)\n",
    "    \n",
    "print(str1.join(lst1))\n"
   ]
  },
  {
   "cell_type": "markdown",
   "metadata": {},
   "source": [
    "Q2. Write the python function to get a string made of its first three\n",
    "characters of a specified string. If the length of the string is less than 3\n",
    "then return the original string.\n",
    "    \n",
    "    Sample function and result :\n",
    "    first-three('ipy') -> ipy\n",
    "    first-three('python') -> pyt"
   ]
  },
  {
   "cell_type": "code",
   "execution_count": 6,
   "metadata": {},
   "outputs": [
    {
     "name": "stdout",
     "output_type": "stream",
     "text": [
      "enter the string:function\n",
      "fun\n"
     ]
    }
   ],
   "source": [
    "input_str = input(\"enter the string:\")\n",
    "lst1 = []\n",
    "str1 = ''\n",
    "\n",
    "if (len(input_str)) > 3:\n",
    "       \n",
    "    for i in range(3):\n",
    "        lst1.append(input_str[i])\n",
    "    \n",
    "    print(str1.join(lst1))\n",
    "    \n",
    "else:\n",
    "    print(input_str)"
   ]
  },
  {
   "cell_type": "markdown",
   "metadata": {},
   "source": [
    "Q3. Write the Python program to find smallest window that contains all\n",
    "characters of the given string?\n",
    "\n",
    "    Original Strings:\n",
    "    asdaewsqgtwwsa\n",
    "    Smallest window that contains all characters of the said string:\n",
    "    Daewsqgt"
   ]
  },
  {
   "cell_type": "code",
   "execution_count": 15,
   "metadata": {},
   "outputs": [
    {
     "name": "stdout",
     "output_type": "stream",
     "text": [
      "daewsqgt\n"
     ]
    }
   ],
   "source": [
    "from collections import Counter\n",
    "s = 'asdaewsqgtwwsa'\n",
    "t = set(s)\n",
    "\n",
    "left, right = 0, 0\n",
    "smap = {char:0 for char in s}\n",
    "tmap = Counter(t)\n",
    "minwindow = len(s)+1\n",
    "match_count = 0\n",
    "start_index = -1\n",
    "\n",
    "\n",
    "while right < len(s):\n",
    "    smap[s[right]] += 1\n",
    "    \n",
    "    if smap[s[right]] <= tmap[s[right]]:\n",
    "        match_count += 1\n",
    "    if match_count == len(t):\n",
    "        while smap[s[left]] > tmap[s[left]]:\n",
    "            smap[s[left]] -= 1\n",
    "            left += 1\n",
    "            \n",
    "        window_size = right - left + 1\n",
    "        \n",
    "        if window_size < minwindow:\n",
    "            minwindow = window_size\n",
    "            start_index = left\n",
    "            \n",
    "    right += 1\n",
    "    \n",
    "print(s[start_index: start_index + minwindow])\n"
   ]
  },
  {
   "cell_type": "markdown",
   "metadata": {},
   "source": [
    "Q4. Write the Python program to count number of substrings from a\n",
    "given string of lowercase alphabets with exactly k distinct (given)\n",
    "characters?\n",
    "\n",
    "    Input a string (lowercase alphabets): wolf\n",
    "    Input k: 4\n",
    "    Number of substrings with exactly 4 distinct characters: 1"
   ]
  },
  {
   "cell_type": "code",
   "execution_count": 20,
   "metadata": {},
   "outputs": [
    {
     "name": "stdout",
     "output_type": "stream",
     "text": [
      "enter the string:python\n",
      "num of distinct characters:4\n",
      "Number of substrings with exactly 4 distinct characters are:1\n"
     ]
    }
   ],
   "source": [
    "input_str = input(\"enter the string:\")\n",
    "char1 = int(input(\"num of distinct characters:\"))\n",
    "\n",
    "lst = []\n",
    "count = 0\n",
    "str_val = 0\n",
    "\n",
    "for i in range(len(input_str)):\n",
    "    \n",
    "    if input_str[i] not in lst:\n",
    "        lst.append(input_str[i])\n",
    "        count += 1\n",
    "        \n",
    "        if count == char1:\n",
    "            str_val += 1\n",
    "            count = 0\n",
    "            lst = []\n",
    "    \n",
    "    \n",
    "\n",
    "print(\"Number of substrings with exactly \" + str(char1) + \" distinct characters are:\" + str(str_val))"
   ]
  },
  {
   "cell_type": "markdown",
   "metadata": {},
   "source": [
    "Q5. Write the Python program to count number of non-empty\n",
    "substrings of the given string?\n",
    "\n",
    "    Input a string: w3resource\n",
    "    Number of substrings:\n",
    "    55"
   ]
  },
  {
   "cell_type": "code",
   "execution_count": 13,
   "metadata": {},
   "outputs": [
    {
     "name": "stdout",
     "output_type": "stream",
     "text": [
      "enter the string:w3resource\n",
      "number of non-empty substrings are: 55\n"
     ]
    }
   ],
   "source": [
    "str1 = input(\"enter the string:\")\n",
    "\n",
    "n= len(str1)\n",
    "\n",
    "sub_len = int((n * (n+1))/2)\n",
    "\n",
    "print(\"number of non-empty substrings are:\", + sub_len)"
   ]
  },
  {
   "cell_type": "markdown",
   "metadata": {},
   "source": [
    "Q6. Write the Python program to count the number of strings where the\n",
    "string length is 2 or more, and first and last character are same\n",
    "from a given list of strings.\n",
    "\n",
    "    Sample List : ['abc', 'xyz', 'wxw', '1331']\n",
    "    Expected Result: 2"
   ]
  },
  {
   "cell_type": "code",
   "execution_count": 49,
   "metadata": {},
   "outputs": [
    {
     "name": "stdout",
     "output_type": "stream",
     "text": [
      "wxw\n",
      "1331\n",
      "count is: 2\n"
     ]
    }
   ],
   "source": [
    "lst = ['abc', 'xyz', 'wxw', '1331']\n",
    "c = 0\n",
    "\n",
    "for i in range(len(lst)):\n",
    "    \n",
    "    if len(lst[i]) > 1 :\n",
    "        if lst[i][0] == lst[i][-1]:\n",
    "            print(lst[i])\n",
    "            c +=1\n",
    "        else:\n",
    "            continue\n",
    "            \n",
    "print('count is: ' + str(c))"
   ]
  },
  {
   "cell_type": "markdown",
   "metadata": {},
   "source": [
    "Q7. Write the Python program to get a list, sorted in increasing order by\n",
    "the last element in each tuple from the given list of non-empty\n",
    "tuples?\n",
    "\n",
    "    Sample List - [ (2, 5), (1, 2), (4, 4), (2, 3), (2, 1) ]\n",
    "    Expected Result - [ (2, 1), (1, 2), (2, 3), (4, 4), (2, 5) ]"
   ]
  },
  {
   "cell_type": "code",
   "execution_count": 9,
   "metadata": {},
   "outputs": [
    {
     "name": "stdout",
     "output_type": "stream",
     "text": [
      "[(2, 1), (1, 2), (2, 3), (4, 4), (2, 5)]\n"
     ]
    }
   ],
   "source": [
    "from operator import itemgetter\n",
    "lst = [ (2, 5), (1, 2), (4, 4), (2, 3), (2, 1) ]\n",
    "\n",
    "print(sorted(lst, key=itemgetter(1)))\n"
   ]
  },
  {
   "cell_type": "markdown",
   "metadata": {},
   "source": [
    "Q8. Write the Python program to remove duplicates from a list?"
   ]
  },
  {
   "cell_type": "code",
   "execution_count": 7,
   "metadata": {},
   "outputs": [
    {
     "data": {
      "text/plain": [
       "[1, 2, 4, 5, 6, 7, 3, 8, 9]"
      ]
     },
     "execution_count": 7,
     "metadata": {},
     "output_type": "execute_result"
    }
   ],
   "source": [
    "lst = [1,2,4,5,2,6,2,4,4,6,7,3,1,8,9]\n",
    "\n",
    "lst1 = []\n",
    "\n",
    "for i in lst:\n",
    "    if i not in lst1:\n",
    "        lst1.append(i)\n",
    "        \n",
    "lst1"
   ]
  },
  {
   "cell_type": "markdown",
   "metadata": {},
   "source": [
    "Q9. Write the Python program to find the list of words that are longer\n",
    "than n from a given list of words?"
   ]
  },
  {
   "cell_type": "code",
   "execution_count": 6,
   "metadata": {},
   "outputs": [
    {
     "name": "stdout",
     "output_type": "stream",
     "text": [
      "enter the word length:5\n"
     ]
    },
    {
     "data": {
      "text/plain": [
       "['sharma', 'kapoor', 'choudhary']"
      ]
     },
     "execution_count": 6,
     "metadata": {},
     "output_type": "execute_result"
    }
   ],
   "source": [
    "lst = ['sharma', 'kapoor', 'rana', 'choudhary', 'kumar', 'saini']\n",
    "lst1 = []\n",
    "n = int(input(\"enter the word length:\"))\n",
    "\n",
    "for i in lst:\n",
    "    if len(i) > n :\n",
    "        lst1.append(i)\n",
    "    else:\n",
    "        continue\n",
    "        \n",
    "lst1"
   ]
  },
  {
   "cell_type": "markdown",
   "metadata": {},
   "source": [
    "Q10. Write the Python program to print a specified list after removing the\n",
    "0th, 4th, and 5th elements?\n",
    "    \n",
    "    Sample List - ['Red', 'Green', 'White', 'Black', 'Pink', 'Yellow']\n",
    "    Expected Output - ['Green', 'White', 'Black']"
   ]
  },
  {
   "cell_type": "code",
   "execution_count": 58,
   "metadata": {},
   "outputs": [
    {
     "data": {
      "text/plain": [
       "['Green', 'White', 'Black']"
      ]
     },
     "execution_count": 58,
     "metadata": {},
     "output_type": "execute_result"
    }
   ],
   "source": [
    "lst = ['Red', 'Green', 'White', 'Black', 'Pink', 'Yellow']\n",
    "\n",
    "lst.remove('Red')\n",
    "lst.pop(4)\n",
    "lst.pop()\n",
    "lst"
   ]
  },
  {
   "cell_type": "markdown",
   "metadata": {},
   "source": [
    "Q11. Write the Python program to generate all permutations of a list in\n",
    "Python?"
   ]
  },
  {
   "cell_type": "code",
   "execution_count": 2,
   "metadata": {},
   "outputs": [
    {
     "name": "stdout",
     "output_type": "stream",
     "text": [
      "[(1, 2, 3), (1, 3, 2), (2, 1, 3), (2, 3, 1), (3, 1, 2), (3, 2, 1)]\n"
     ]
    }
   ],
   "source": [
    "import itertools\n",
    "\n",
    "print(list(itertools.permutations([1,2,3])))"
   ]
  },
  {
   "cell_type": "markdown",
   "metadata": {},
   "source": [
    "Q12. Write the Python program to convert a pair of values into a sorted\n",
    "unique array?\n",
    " \n",
    "    Original List- [ (1, 2), (3, 4), (1, 2), (5, 6), (7, 8), (1, 2), (3, 4), (3, 4), (7, 8), (9, 10) ]\n",
    "    Sorted Unique Data- [ 1, 2, 3, 4, 5, 6, 7, 8, 9, 10 ] \n"
   ]
  },
  {
   "cell_type": "code",
   "execution_count": 3,
   "metadata": {},
   "outputs": [
    {
     "data": {
      "text/plain": [
       "[1, 2, 3, 4, 5, 6, 7, 8, 9, 10]"
      ]
     },
     "execution_count": 3,
     "metadata": {},
     "output_type": "execute_result"
    }
   ],
   "source": [
    "lst = [ (1, 2), (3, 4), (1, 2), (5, 6), (7, 8), (1, 2), (3, 4), (3, 4), (7, 8), (9, 10) ]\n",
    "lst1 = []\n",
    "for i in lst:\n",
    "    for j in i:\n",
    "        if j not in lst1:\n",
    "            lst1.append(j)\n",
    "        else:\n",
    "            continue\n",
    "            \n",
    "lst1"
   ]
  },
  {
   "cell_type": "markdown",
   "metadata": {},
   "source": [
    "## Great job!"
   ]
  }
 ],
 "metadata": {
  "kernelspec": {
   "display_name": "Python 3",
   "language": "python",
   "name": "python3"
  },
  "language_info": {
   "codemirror_mode": {
    "name": "ipython",
    "version": 3
   },
   "file_extension": ".py",
   "mimetype": "text/x-python",
   "name": "python",
   "nbconvert_exporter": "python",
   "pygments_lexer": "ipython3",
   "version": "3.7.1"
  }
 },
 "nbformat": 4,
 "nbformat_minor": 2
}
